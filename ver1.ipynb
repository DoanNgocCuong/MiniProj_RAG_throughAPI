{
 "cells": [
  {
   "cell_type": "markdown",
   "metadata": {},
   "source": [
    "1. Từ API chạy được trên cmd => Build chatbot UI.\n",
    "2. Cho chatbot thêm khả năng ghi nhớ hội thoại. "
   ]
  },
  {
   "cell_type": "code",
   "execution_count": null,
   "metadata": {},
   "outputs": [],
   "source": [
    "# import streamlit as st\n",
    "# import requests\n",
    "# import json\n",
    "\n",
    "# def query_api(text, top_k=5, return_doc=True):\n",
    "#     url = \"http://103.253.20.13:9225/flashrag/predict\"\n",
    "#     headers = {\"Content-Type\": \"application/json\"}\n",
    "#     data = {\n",
    "#         \"text\": text,\n",
    "#         \"top_k\": top_k,\n",
    "#         \"return_doc\": False\n",
    "#     }\n",
    "#     response = requests.post(url, headers=headers, data=json.dumps(data))\n",
    "#     return response.json()\n",
    "\n",
    "# def main():\n",
    "#     st.title(\"Chatbot UI\")\n",
    "\n",
    "#     if \"messages\" not in st.session_state:\n",
    "#         st.session_state.messages = []\n",
    "\n",
    "#     for message in st.session_state.messages:\n",
    "#         with st.chat_message(message[\"role\"]):\n",
    "#             st.markdown(message[\"content\"])\n",
    "\n",
    "#     if prompt := st.chat_input(\"What is your question?\"):\n",
    "#         st.session_state.messages.append({\"role\": \"user\", \"content\": prompt})\n",
    "#         with st.chat_message(\"user\"):\n",
    "#             st.markdown(prompt)\n",
    "\n",
    "#         with st.chat_message(\"assistant\"):\n",
    "#             response = query_api(prompt)\n",
    "#             answer = response[\"result\"][\"pred_answer_list\"][0]\n",
    "#             st.markdown(answer)\n",
    "#             st.session_state.messages.append({\"role\": \"assistant\", \"content\": answer})\n",
    "\n",
    "# if __name__ == \"__main__\":\n",
    "#     main()\n"
   ]
  },
  {
   "cell_type": "markdown",
   "metadata": {},
   "source": [
    "```\n",
    ">git init \n",
    ">git add app.py\n",
    ">git commit -m \"Initial commit\"\n",
    ">git remote add origin https://github.com/DoanNgocCuongBKEGNH/chatbotUI_APITest\n",
    ">git push -u origin main\n",
    "bug\n",
    ">git branch\n",
    "* master\n",
    "> git push -u origin master\n",
    "\n",
    "----\n",
    "Deploy with Streamlit Comunity Cloud (Còn gradio là ấn cái share=True là được luôn rồi)"
   ]
  }
 ],
 "metadata": {
  "language_info": {
   "name": "python"
  }
 },
 "nbformat": 4,
 "nbformat_minor": 2
}
